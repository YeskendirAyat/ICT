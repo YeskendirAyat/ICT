{
 "cells": [
  {
   "cell_type": "code",
   "execution_count": 13,
   "metadata": {},
   "outputs": [
    {
     "name": "stdout",
     "output_type": "stream",
     "text": [
      "[]\n",
      "['Amir']\n",
      "['Ayat', 'Yergeldi']\n",
      "['Almas']\n"
     ]
    }
   ],
   "source": [
    "# task1\n",
    "def reverseLookUp(s, v):\n",
    "    keys = []\n",
    "    for i,j in s.items():\n",
    "        if j == v: \n",
    "            keys.append(i)\n",
    "    return keys\n",
    "dict1 = {'Ayat':18, 'Amir':17, 'Yergeldi':18,'Almas':22}\n",
    "print(reverseLookUp(dict1, 16))\n",
    "print(reverseLookUp(dict1, 17))\n",
    "print(reverseLookUp(dict1, 18))\n",
    "print(reverseLookUp(dict1, 22))"
   ]
  },
  {
   "cell_type": "code",
   "execution_count": 159,
   "metadata": {},
   "outputs": [
    {
     "name": "stdout",
     "output_type": "stream",
     "text": [
      "Total \t Simulated \t Excepted\n",
      "2\t\t2.5\t\t2.78\n",
      "3\t\t6.2\t\t5.56\n",
      "4\t\t7.2\t\t8.34\n",
      "5\t\t10.9\t\t11.12\n",
      "6\t\t13.0\t\t13.9\n",
      "7\t\t16.8\t\t16.68\n",
      "8\t\t14.0\t\t13.9\n",
      "9\t\t12.4\t\t11.12\n",
      "10\t\t9.2\t\t8.34\n",
      "11\t\t5.6\t\t5.56\n",
      "12\t\t2.2\t\t2.78\n"
     ]
    }
   ],
   "source": [
    "# task2\n",
    "import random\n",
    "def randomSumOfTwoDiceRoll():\n",
    "    return (random.randint(1,6)) + (random.randint(1,6))\n",
    "total = {i : 0 for i in range(2,13)}\n",
    "for i in range(1000):\n",
    "    total[randomSumOfTwoDiceRoll()]+=1\n",
    "counts = [int(0) for i in range(11)]\n",
    "for i in range(2,13):\n",
    "    for j in range(1,7):\n",
    "        if(i - j <= 0): break\n",
    "        if(i - j <= 6):\n",
    "            counts[i-2]+=1\n",
    "print(\"Total \"+ \"\\t\"+\" Simulated \"+ \"\\t\"+\" Excepted\")\n",
    "for k,v in total.items():\n",
    "    print(str(k)+ \"\\t\\t\" + str(v/10)+ \"\\t\\t\" + str(round(counts[k-2]*2.78,2)))"
   ]
  },
  {
   "cell_type": "code",
   "execution_count": 145,
   "metadata": {},
   "outputs": [
    {
     "name": "stdout",
     "output_type": "stream",
     "text": [
      "Enter message: Hello\n",
      "4433555555666"
     ]
    }
   ],
   "source": [
    "#task3\n",
    "text=input(\"Enter message: \")\n",
    "Characters = {\n",
    "'1':['.',',','?','!',':'],\n",
    "'2':['A','B','C'],\n",
    "'3':['D','E','F'],\n",
    "'4':['G','H','I'],\n",
    "'5':['J','K','L'],\n",
    "'6':['M','N','O'],\n",
    "'7':['P','Q','R','S'],\n",
    "'8':['T','U','V'],\n",
    "'9':['W','X','Y','Z'],\n",
    "'0':[' ']\n",
    "}\n",
    "for n in text:\n",
    "    n=n.upper()\n",
    "    for i,j in Characters.items():\n",
    "        for k in j:\n",
    "            if k==n:\n",
    "                for t in range(j.index(n)+1):\n",
    "                    print(i,end=\"\")"
   ]
  },
  {
   "cell_type": "code",
   "execution_count": 125,
   "metadata": {},
   "outputs": [
    {
     "name": "stdout",
     "output_type": "stream",
     "text": [
      "Hello\n",
      ".... . .-.. .-.. --- "
     ]
    }
   ],
   "source": [
    "# task3\n",
    "dict1 = {'A': '.-', 'J' : '.---', 'S': '...',  '1' : '.---',\n",
    "         'B': '-...' ,'K': '-.-', 'T' : '-', '2': '..--', 'C': '-.-.',\n",
    "         'L': '.-..', 'U': '..-', '3': '...-', 'D': '-..', 'M' :'--',\n",
    "         'V': '...-' ,'4': '....', 'E': '.', 'N': '-.', 'W': '.--', \n",
    "         '5': '.....', 'F': '..-.', 'O':'---', 'X': '-..-', '6' : '-....',\n",
    "         'G': '--.', 'P': '.--.', 'Y': '-.--', '7': '--...', 'H': '....', 'Q': '--.-',\n",
    "         'Z': '--..', '8': '---..', 'I': '..', 'R':'.-.', '0': '-----', '9': '----.'}\n",
    "s = input()\n",
    "for i in s:\n",
    "    i=i.upper()\n",
    "    if(i in dict1):\n",
    "        print(dict1[i.upper()],end=' ')\n"
   ]
  },
  {
   "cell_type": "code",
   "execution_count": 171,
   "metadata": {},
   "outputs": [
    {
     "name": "stdout",
     "output_type": "stream",
     "text": [
      "T2N1N4\n",
      "Urban address in Albertia\n"
     ]
    }
   ],
   "source": [
    "# task4\n",
    "def check(s):\n",
    "    if(len(s)!=6): return False\n",
    "    ind = 1\n",
    "    for i in s:\n",
    "        if(ind%2==1 and (i>='A' and i<='Z')==False):\n",
    "            return False\n",
    "        elif(ind%2==0 and (i>='0' and i<='9')==False):\n",
    "            return False\n",
    "        ind+=1\n",
    "    return True\n",
    "Posts = {'A':'Newfoundland',\n",
    "         'B':'Nova Scotia', \n",
    "         'C':'Prince Edward Island', \n",
    "         'E':'New Brunswick',\n",
    "         'G':'Quebec',\n",
    "         'H':'Quebec',\n",
    "         'J':'Quebec',\n",
    "         'K':'Ontario',\n",
    "         'L':'Ontario',\n",
    "         'M':'Ontario',\n",
    "         'N':'Ontario',\n",
    "         'P':'Ontario',\n",
    "         'R':'Manitoba',\n",
    "         'S':'Saskatchwan',\n",
    "         'T':'Albertia',\n",
    "         'V':'British Columbia', \n",
    "#          'X1':'Nunavut',\n",
    "#          'X2':'Northwest Territories',\n",
    "         'Y':'Yukon'}\n",
    "s = input()\n",
    "if(check(s)==False): print(\"Wrong enter\")\n",
    "else:\n",
    "    if(s[1] == '0'): print(\"Rural\",end=' ')\n",
    "    else: print(\"Urban\",end=' ')\n",
    "    print(\"address in \",end='')\n",
    "    if(s[0] == 'X'):\n",
    "        print('Nunavut or Northwest Territories')\n",
    "    else:\n",
    "        print(Posts[s[0]])\n",
    "# T2N1N4\n",
    "# X0A1B2 "
   ]
  },
  {
   "cell_type": "code",
   "execution_count": 7,
   "metadata": {},
   "outputs": [
    {
     "name": "stdout",
     "output_type": "stream",
     "text": [
      "12\n",
      "twelve\n"
     ]
    }
   ],
   "source": [
    "#task5\n",
    "def check(s):\n",
    "    if(len(s) > 3 or len(s) <= 0): return False\n",
    "    for i in s:\n",
    "        if((i>='0'and i<='9')==False): return False\n",
    "    return True\n",
    "digits = {'0':'zero','1':'one', '2':'two','3':'three','4':'four','5':'five','6':'six','7':'seven','8':'eight','9':'nine'}\n",
    "decimal = {'0':'','1':'ten','2':'twenty','3':'thirty','4':'forty','5':'fivety','6':'sixty','7':'seventy','8':'eighty','9':'ninety','11':'eleven','12':'twelve','13':'thirteen','14':'fourteen','15':'fifteen','16':'sixteen','17':'seventeen','18':'eighteen','19':'nineten'}\n",
    "s = input()\n",
    "con=True\n",
    "if(check(s) == False): print(\"Wrong enter\")\n",
    "else:\n",
    "    i = 0\n",
    "    n = len(s)\n",
    "    if(n == 3):\n",
    "        print(digits[s[i]] + ' hundred ', end='')\n",
    "        i+=1\n",
    "    if(n >= 2):\n",
    "        if s[i]+s[i+1] in decimal:\n",
    "            con=False\n",
    "            print(decimal[s[i]+s[i+1]])\n",
    "        else:\n",
    "            print(decimal[s[i]],end=' ')\n",
    "        i+=1\n",
    "    if(n >= 1):\n",
    "        if(con):\n",
    "            print(digits[s[i]])"
   ]
  },
  {
   "cell_type": "code",
   "execution_count": 9,
   "metadata": {},
   "outputs": [
    {
     "name": "stdout",
     "output_type": "stream",
     "text": [
      "zzzz\n",
      "1\n"
     ]
    }
   ],
   "source": [
    "#task6\n",
    "s=input()\n",
    "s=set(s)\n",
    "print(len(s))"
   ]
  },
  {
   "cell_type": "code",
   "execution_count": 18,
   "metadata": {},
   "outputs": [
    {
     "name": "stdout",
     "output_type": "stream",
     "text": [
      "live\n",
      "evil\n",
      "Yes\n"
     ]
    }
   ],
   "source": [
    "#task7\n",
    "s=input()\n",
    "s2=input()\n",
    "s=set(s)\n",
    "s2=set(s2)\n",
    "if len(s.intersection(s2))==len(s):\n",
    "    print(\"Yes\")\n",
    "else:\n",
    "    print(\"No\")"
   ]
  },
  {
   "cell_type": "code",
   "execution_count": 45,
   "metadata": {},
   "outputs": [
    {
     "name": "stdout",
     "output_type": "stream",
     "text": [
      "William Shakespeare\n",
      "I am a weakish speller\n",
      "Yes\n"
     ]
    }
   ],
   "source": [
    "#task8\n",
    "s=input()\n",
    "s2=input()\n",
    "s=s.lower()\n",
    "s2=s2.lower()\n",
    "s3=set()\n",
    "s4=set()\n",
    "for i in s:\n",
    "    if i!=' ' and i!='!' and i!=',' and i!='.' and i!='?':\n",
    "        s3.add(i)\n",
    "for i in s2:\n",
    "    if i!=' ' and i!='!' and i!=',' and i!='.' and i!='?':\n",
    "        s4.add(i)\n",
    "if len(s3.intersection(s4))==len(s3) and len(s3.intersection(s4))==len(s4):\n",
    "    print(\"Yes\")\n",
    "else:\n",
    "    print(\"No\")\n",
    "# William Shakespeare\n",
    "# I am a weakish speller"
   ]
  },
  {
   "cell_type": "code",
   "execution_count": 64,
   "metadata": {},
   "outputs": [
    {
     "name": "stdout",
     "output_type": "stream",
     "text": [
      "A\n",
      "1\n"
     ]
    }
   ],
   "source": [
    "#task9\n",
    "points={1:['A','E','I','L','N','O','R','S','T','U'],\n",
    "       2:['D','G'],\n",
    "       3:['B','C','M','P'],\n",
    "       4:['F','H','V','W','Y'],\n",
    "       5:['K'],\n",
    "       8:['J','X'],\n",
    "       10:['Q','Z']}\n",
    "n=input()\n",
    "cnt=0\n",
    "for t in n:\n",
    "    for i,j in points.items():\n",
    "        for k in j:\n",
    "            if k==t:\n",
    "                cnt+=i\n",
    "print(cnt)"
   ]
  },
  {
   "cell_type": "code",
   "execution_count": 61,
   "metadata": {},
   "outputs": [
    {
     "ename": "SyntaxError",
     "evalue": "unexpected character after line continuation character (<ipython-input-61-c892c29f4cab>, line 10)",
     "output_type": "error",
     "traceback": [
      "\u001b[0;36m  File \u001b[0;32m\"<ipython-input-61-c892c29f4cab>\"\u001b[0;36m, line \u001b[0;32m10\u001b[0m\n\u001b[0;31m    res = \\\"\\\\\"\u001b[0m\n\u001b[0m               ^\u001b[0m\n\u001b[0;31mSyntaxError\u001b[0m\u001b[0;31m:\u001b[0m unexpected character after line continuation character\n"
     ]
    }
   ],
   "source": [
    "#task10\n",
    "import random\n",
    "def f1(dict1):\n",
    "    for i in range(len(dict1)):\n",
    "        mini,maxi = 1,15\n",
    "        for j in dict1:\n",
    "            dict1[j].append(random.randint(mini,maxi))\n",
    "            mini,maxi = mini+15, maxi+15   \n",
    "def f2(dict1):\n",
    "    res = \\\"\\\\\"\n",
    "    res=\"\"\n",
    "    for i in dict1:\n",
    "        res+=i\n",
    "        res+='\\\\t'\n",
    "    res+='\\\\n'\n",
    "    for i in range(len(dict1)):\n",
    "        for j in dict1:\n",
    "            res+=str(dict1[j][i])\n",
    "            res+='\\\\t'\n",
    "        res+='\\\\n'\n",
    "    print(res)\n",
    "def f3(n):\n",
    "    newDict = dict()\n",
    "    for i in range(n):\n",
    "        char = chr(random.randint(ord('A'),ord('Z')))\n",
    "        while(char in newDict):\n",
    "            char = chr(random.randint(ord('A'),ord('Z')))\n",
    "        newDict[char]=[]\n",
    "    return newDict\n",
    "dict1 = {'B' : [], 'I' : [], 'N' : [], 'G' : [], 'O' : []}\n",
    "dict1 = f3(5)\n",
    "f1(dict1)\n",
    "f2(dict1)\n"
   ]
  },
  {
   "cell_type": "code",
   "execution_count": null,
   "metadata": {},
   "outputs": [],
   "source": []
  }
 ],
 "metadata": {
  "kernelspec": {
   "display_name": "Python 3",
   "language": "python",
   "name": "python3"
  },
  "language_info": {
   "codemirror_mode": {
    "name": "ipython",
    "version": 3
   },
   "file_extension": ".py",
   "mimetype": "text/x-python",
   "name": "python",
   "nbconvert_exporter": "python",
   "pygments_lexer": "ipython3",
   "version": "3.8.3"
  }
 },
 "nbformat": 4,
 "nbformat_minor": 4
}
