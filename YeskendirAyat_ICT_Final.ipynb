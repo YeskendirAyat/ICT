{
 "cells": [
  {
   "cell_type": "code",
   "execution_count": 16,
   "metadata": {},
   "outputs": [
    {
     "name": "stdout",
     "output_type": "stream",
     "text": [
      "7\n",
      "3\n",
      "NO\n"
     ]
    }
   ],
   "source": [
    "#1 check\n",
    "n,m=map(int,input().split())\n",
    "if(n%m==0):\n",
    "    print(\"YES\")\n",
    "else:\n",
    "    print(\"NO\")"
   ]
  },
  {
   "cell_type": "code",
   "execution_count": 14,
   "metadata": {},
   "outputs": [
    {
     "name": "stdout",
     "output_type": "stream",
     "text": [
      "2\n",
      "SF\n",
      "0\n",
      "Yes\n"
     ]
    }
   ],
   "source": [
    "#5 Print \"YES\" if you flew more times from Seattle to San Francisco, and \"NO\" otherwise.\n",
    "n = int(input())\n",
    "s = input()\n",
    "Seattle = 0\n",
    "Francisco = 0\n",
    "for i in range(len(s)-1):\n",
    "    if(s[i] == 'F' and s[i+1] == 'S'): \n",
    "        Seattle+=1\n",
    "    elif(s[i] == 'S' and s[i+1] == 'F'): \n",
    "            Francisco+=1\n",
    "    print(i)\n",
    "if(Francisco>Seattle): \n",
    "    print(\"Yes\")\n",
    "else: \n",
    "    print(\"No\")"
   ]
  },
  {
   "cell_type": "code",
   "execution_count": 4,
   "metadata": {},
   "outputs": [
    {
     "name": "stdout",
     "output_type": "stream",
     "text": [
      "1\n",
      "1 1\n",
      "YES\n"
     ]
    }
   ],
   "source": [
    "#1 ans\n",
    "t = int(input())\n",
    "while(t>0):\n",
    "    n,m=map(int,input().split())\n",
    "    if(n%m==0):\n",
    "        print(\"YES\")\n",
    "    else:\n",
    "        print(\"NO\")\n",
    "    t-=1"
   ]
  },
  {
   "cell_type": "code",
   "execution_count": 13,
   "metadata": {},
   "outputs": [
    {
     "name": "stdout",
     "output_type": "stream",
     "text": [
      "7\n",
      "2\n"
     ]
    }
   ],
   "source": [
    "#3 sea battle tournament\n",
    "# 1*k + 2*(k-1) + 3*(k-2) + ... + k*1 or kn = kn-1 + (n+1)*n/2\n",
    "k = int(input())\n",
    "a = 1\n",
    "b = 1\n",
    "while True:\n",
    "    a+=1\n",
    "    b += ((a+1)*a)/2\n",
    "    if k <= b:\n",
    "        break\n",
    "print(a-1)"
   ]
  },
  {
   "cell_type": "code",
   "execution_count": 14,
   "metadata": {},
   "outputs": [
    {
     "name": "stdout",
     "output_type": "stream",
     "text": [
      "5\n",
      "7 5 6 4 8\n",
      "0\n"
     ]
    }
   ],
   "source": [
    "#2 There was an electronic store heist last night.\n",
    "x = int(input())\n",
    "a = [int(i) for i in input().split()]\n",
    "print((max(a) - min(a) + 1) - x)"
   ]
  },
  {
   "cell_type": "code",
   "execution_count": 51,
   "metadata": {},
   "outputs": [
    {
     "name": "stdout",
     "output_type": "stream",
     "text": [
      "7\n",
      "1 2 3 1 2 3 4\n",
      "2\n",
      "3 4 "
     ]
    }
   ],
   "source": [
    "#4 Little girl Tanya\n",
    "n = int(input())\n",
    "a = [int(i) for i in input().split()]; \n",
    "ans = []\n",
    "for i in range(n): \n",
    "    if(i < n -1 and (a[i] > a[i+1] or a[i] == a[i+1])): \n",
    "        ans.append(a[i])\n",
    "ans.append(a[n-1])\n",
    "print(len(ans))\n",
    "for i in ans:\n",
    "    print(i,end=' ')\n",
    "# 7\n",
    "# 1 2 3 1 2 3 4"
   ]
  },
  {
   "cell_type": "code",
   "execution_count": null,
   "metadata": {},
   "outputs": [],
   "source": []
  }
 ],
 "metadata": {
  "kernelspec": {
   "display_name": "Python 3",
   "language": "python",
   "name": "python3"
  }
 },
 "nbformat": 4,
 "nbformat_minor": 4
}
