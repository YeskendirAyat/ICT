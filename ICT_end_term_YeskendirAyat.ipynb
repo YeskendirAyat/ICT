{
 "cells": [
  {
   "cell_type": "code",
   "execution_count": 35,
   "metadata": {},
   "outputs": [
    {
     "name": "stdout",
     "output_type": "stream",
     "text": [
      "1987\n",
      "2013\n"
     ]
    }
   ],
   "source": [
    "#task1 It seems like the year of 2013 came only yesterday.\n",
    "#Do you know a curious fact? The year of 2013 is the first year after the old 1987 with only distinct digits.\n",
    "year = int(input())\n",
    "year+=1\n",
    "while(True):\n",
    "    if(len(set(str(year)))!=4): year+=1\n",
    "    else: \n",
    "        break\n",
    "print(year)"
   ]
  },
  {
   "cell_type": "code",
   "execution_count": 10,
   "metadata": {},
   "outputs": [
    {
     "name": "stdout",
     "output_type": "stream",
     "text": [
      "10\n",
      "3\n"
     ]
    }
   ],
   "source": [
    "# task5 Fafa owns a company that works on huge projects.\n",
    "n=int(input())\n",
    "res = 0\n",
    "for i in range(1,n):\n",
    "    if(i%(n-i)==0): \n",
    "        res+=1\n",
    "print(res)"
   ]
  },
  {
   "cell_type": "code",
   "execution_count": 8,
   "metadata": {},
   "outputs": [
    {
     "name": "stdout",
     "output_type": "stream",
     "text": [
      "sevenkplus\n",
      "CHAT WITH HER!\n"
     ]
    }
   ],
   "source": [
    "#task4 Those days, many boys use beautiful girls' photos as avatars in forums. \n",
    "message=input()\n",
    "message=set(message)\n",
    "if(len(message)%2 == 0): \n",
    "    print(\"CHAT WITH HER!\")\n",
    "else: \n",
    "    print(\"IGNORE HIM!\")"
   ]
  },
  {
   "cell_type": "code",
   "execution_count": 39,
   "metadata": {},
   "outputs": [
    {
     "name": "stdout",
     "output_type": "stream",
     "text": [
      "6 12\n",
      "4\n"
     ]
    }
   ],
   "source": [
    "# task2 \n",
    "n,x = map(int,(input().split()))\n",
    "cnt = 0\n",
    "for i in range(1,n+1):\n",
    "    for j in range(1,n+1):\n",
    "        if(i*j == x): cnt+=1\n",
    "print(cnt)"
   ]
  },
  {
   "cell_type": "code",
   "execution_count": 32,
   "metadata": {},
   "outputs": [
    {
     "name": "stdout",
     "output_type": "stream",
     "text": [
      "3\n",
      "3 -1 7\n",
      "-5 2 -4\n",
      "2 -1 -3\n",
      "YES\n"
     ]
    }
   ],
   "source": [
    "#task3 Вася\n",
    "import numpy as np\n",
    "n=int(input())\n",
    "list1=[]\n",
    "list2=[]\n",
    "for i in range(n):\n",
    "    x,y,z = map(int,input().split())\n",
    "    list1.append(x)\n",
    "    list1.append(y)    \n",
    "    list1.append(z)\n",
    "#     print(list1)\n",
    "    list2.append(list1)\n",
    "    list1=[]\n",
    "list2=np.array(list2)\n",
    "list3=np.sum(list2, axis = 0)\n",
    "ans=True\n",
    "for i in list3:\n",
    "    if i!=0:\n",
    "        ans=False\n",
    "        break\n",
    "if ans:\n",
    "    print('YES')\n",
    "else:\n",
    "    print('NO')\n",
    "# 3\n",
    "# 4 1 7\n",
    "# -2 4 -1\n",
    "# 1 -5 -3\n",
    "# ====\n",
    "# 3\n",
    "# 3 -1 7\n",
    "# -5 2 -4\n",
    "# 2 -1 -3"
   ]
  },
  {
   "cell_type": "code",
   "execution_count": null,
   "metadata": {},
   "outputs": [],
   "source": []
  }
 ],
 "metadata": {
  "kernelspec": {
   "display_name": "Python 3",
   "language": "python",
   "name": "python3"
  },
  "language_info": {
   "codemirror_mode": {
    "name": "ipython",
    "version": 3
   },
   "file_extension": ".py",
   "mimetype": "text/x-python",
   "name": "python",
   "nbconvert_exporter": "python",
   "pygments_lexer": "ipython3",
   "version": "3.8.3"
  }
 },
 "nbformat": 4,
 "nbformat_minor": 4
}
