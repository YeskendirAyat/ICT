{
 "cells": [
  {
   "cell_type": "code",
   "execution_count": 16,
   "metadata": {},
   "outputs": [
    {
     "name": "stdout",
     "output_type": "stream",
     "text": [
      "Enter your name: Ayat\n",
      "Ayat@kbtu.kz\n"
     ]
    }
   ],
   "source": [
    "# task1\n",
    "s=str(input(\"Enter your name: \"))\n",
    "print(s+\"@kbtu.kz\")"
   ]
  },
  {
   "cell_type": "code",
   "execution_count": 17,
   "metadata": {},
   "outputs": [
    {
     "name": "stdout",
     "output_type": "stream",
     "text": [
      "Enter your name: Ayat\n",
      "Hello Ayat\n"
     ]
    }
   ],
   "source": [
    "#task2\n",
    "s=str(input(\"Enter your name: \"))\n",
    "print(\"Hello \"+s)"
   ]
  },
  {
   "cell_type": "code",
   "execution_count": 18,
   "metadata": {},
   "outputs": [
    {
     "name": "stdout",
     "output_type": "stream",
     "text": [
      "2\n",
      "2\n",
      "4\n"
     ]
    }
   ],
   "source": [
    "#task3\n",
    "a=int(input())\n",
    "b=int(input())\n",
    "print(a*b)"
   ]
  },
  {
   "cell_type": "code",
   "execution_count": 19,
   "metadata": {},
   "outputs": [
    {
     "name": "stdout",
     "output_type": "stream",
     "text": [
      "2\n",
      "3\n",
      "0.0001377410468319559\n"
     ]
    }
   ],
   "source": [
    "#task4\n",
    "a=int(input())\n",
    "b=int(input())\n",
    "print((a*b)/43560)"
   ]
  },
  {
   "cell_type": "code",
   "execution_count": 25,
   "metadata": {},
   "outputs": [
    {
     "name": "stdout",
     "output_type": "stream",
     "text": [
      "0.4\n",
      "0$\n"
     ]
    }
   ],
   "source": [
    "#task5\n",
    "a = map(float,input().split())\n",
    "total=0\n",
    "for i in a:\n",
    "    if i>1:\n",
    "        total+=0.25\n",
    "    if i>=1:\n",
    "        total+=0.10\n",
    "print(str(total)+\"$\")"
   ]
  },
  {
   "cell_type": "code",
   "execution_count": 26,
   "metadata": {},
   "outputs": [
    {
     "name": "stdout",
     "output_type": "stream",
     "text": [
      "2\n",
      "Check with tip: 2.4\n"
     ]
    }
   ],
   "source": [
    "#task6\n",
    "x=int(input())\n",
    "print(\"Check with tip: \"+str(x*1.2))"
   ]
  },
  {
   "cell_type": "code",
   "execution_count": 27,
   "metadata": {},
   "outputs": [
    {
     "name": "stdout",
     "output_type": "stream",
     "text": [
      "10\n",
      "55\n"
     ]
    }
   ],
   "source": [
    "#task7 Sum of the First n Positive Integers\n",
    "x=int(input())\n",
    "print(int(x*(x+1)/2))"
   ]
  },
  {
   "cell_type": "code",
   "execution_count": 28,
   "metadata": {},
   "outputs": [
    {
     "name": "stdout",
     "output_type": "stream",
     "text": [
      "widget: 243\n",
      "gimoz: 234\n",
      "44433\n"
     ]
    }
   ],
   "source": [
    "#task8 Widgets and Gizmos\n",
    "x=int(input(\"widget: \"))\n",
    "y=int(input(\"gimoz: \"))\n",
    "print(x*75+y*112)"
   ]
  },
  {
   "cell_type": "code",
   "execution_count": 29,
   "metadata": {},
   "outputs": [
    {
     "name": "stdout",
     "output_type": "stream",
     "text": [
      "Enter ur cash: 12\n",
      "Enter years: 4\n",
      "14.04$\n"
     ]
    }
   ],
   "source": [
    "#task9 Compound Interest\n",
    "a=int(input(\"Enter ur cash: \"))\n",
    "b=int(input(\"Enter years: \"))\n",
    "while(b):\n",
    "    a*=1.04\n",
    "    b-=1\n",
    "print(str(round(a,2))+'$')"
   ]
  },
  {
   "cell_type": "code",
   "execution_count": 30,
   "metadata": {},
   "outputs": [
    {
     "name": "stdout",
     "output_type": "stream",
     "text": [
      "10\n",
      "10\n",
      "The sum of a and b: 20\n",
      "The difference of a and b: 0\n",
      "The product of a and b: 20\n",
      "The quotient when a is divided by b  : 1\n",
      "The remainder when a is divided by b  : 0\n",
      "The result of log10 a  : 1.0\n"
     ]
    }
   ],
   "source": [
    "#task10 Arithmetic\n",
    "import math\n",
    "a=int(input())\n",
    "b=int(input())\n",
    "print(\"The sum of a and b: \"+str(a+b))\n",
    "print(\"The difference of a and b: \"+str(a-b))\n",
    "print(\"The product of a and b: \"+str(a+b))\n",
    "print(\"The quotient when a is divided by b  : \"+str(int(a/b)))\n",
    "print(\"The remainder when a is divided by b  : \"+str(a%b))\n",
    "print(\"The result of log10 a  : \"+str(round(float(math.log10(a)),4)))"
   ]
  },
  {
   "cell_type": "code",
   "execution_count": 31,
   "metadata": {},
   "outputs": [
    {
     "name": "stdout",
     "output_type": "stream",
     "text": [
      "Enter MPG: 32.23\n",
      "32.23 int L/100km equal to: 7580.97945\n"
     ]
    }
   ],
   "source": [
    "#task11 Fuel Efﬁciency\n",
    "x=float(input(\"Enter MPG: \"))\n",
    "print(str(x)+\" int L/100km equal to: \"+str(x*235.215))"
   ]
  },
  {
   "cell_type": "code",
   "execution_count": 32,
   "metadata": {},
   "outputs": [
    {
     "name": "stdout",
     "output_type": "stream",
     "text": [
      "Enter coodinates of point a: \n",
      "x1= 23\n",
      "y1= 2\n",
      "Enter coodinates of point b: \n",
      "x2= 3\n",
      "y2= 5\n",
      "7329.490728317349\n"
     ]
    }
   ],
   "source": [
    "# task12Distance Between Two Points on Earth\n",
    "import math\n",
    "print(\"Enter coodinates of point a: \")\n",
    "x1=float(input(\"x1= \"))\n",
    "y1=float(input(\"y1= \"))\n",
    "print(\"Enter coodinates of point b: \")\n",
    "x2=float(input(\"x2= \"))\n",
    "y2=float(input(\"y2= \"))\n",
    "distance=6371.01*(math.acos(math.sin(x1)*math.sin(x2)+math.cos(x1)*math.cos(y1-y2)))\n",
    "print(distance)\n"
   ]
  },
  {
   "cell_type": "code",
   "execution_count": 34,
   "metadata": {},
   "outputs": [
    {
     "name": "stdout",
     "output_type": "stream",
     "text": [
      "Enter cost: 2353\n",
      "200 \n",
      "200 \n",
      "200 \n",
      "200 \n",
      "200 \n",
      "200 \n",
      "200 \n",
      "200 \n",
      "200 \n",
      "200 \n",
      "200 \n",
      "100 \n",
      "50 \n",
      "1 \n",
      "1 \n",
      "1 \n"
     ]
    }
   ],
   "source": [
    "# task13 Making Change\n",
    "x=int(input(\"Enter cost: \"))\n",
    "while x>0:\n",
    "    if x>=200:\n",
    "        print(\"200 \")\n",
    "        x-=200\n",
    "    elif x>=100 and x<200:\n",
    "        print(\"100 \")\n",
    "        x-=100\n",
    "    elif x >= 50 and x < 100:\n",
    "        print(\"50 \")\n",
    "        x -= 50\n",
    "    elif x >= 25 and x < 50:\n",
    "        print(\"25 \")\n",
    "        x -= 25\n",
    "    elif x >= 10 and x < 25:\n",
    "        print(\"10 \")\n",
    "        x -= 10\n",
    "    elif x >= 5 and x < 10:\n",
    "        print(\"5 \")\n",
    "        x -= 5\n",
    "    elif x >= 1 and x < 5:\n",
    "        print(\"1 \")\n",
    "        x -= 1\n",
    "        "
   ]
  },
  {
   "cell_type": "code",
   "execution_count": 37,
   "metadata": {},
   "outputs": [
    {
     "name": "stdout",
     "output_type": "stream",
     "text": [
      "Enter foots: 23\n",
      "Enter inches: 4\n",
      "10.16cm\n"
     ]
    }
   ],
   "source": [
    "# task14 Height Units\n",
    "x=int(input(\"Enter foots: \"))\n",
    "y=int(input(\"Enter inches: \"))\n",
    "t=(y*12)+y\n",
    "print(str(y*2.54)+\"cm\")"
   ]
  },
  {
   "cell_type": "code",
   "execution_count": 38,
   "metadata": {},
   "outputs": [
    {
     "name": "stdout",
     "output_type": "stream",
     "text": [
      "Enter foot: 32\n",
      "32 in yards:10.666656\n",
      "32 in inches:384\n",
      "32 int miles: 0.006060608\n"
     ]
    }
   ],
   "source": [
    "# taks15 Distance Units\n",
    "\n",
    "x=int(input(\"Enter foot: \"))\n",
    "print(str(x)+\" in yards:\"+str(x*0.333333))\n",
    "print(str(x)+\" in inches:\"+str(x*12))\n",
    "print(str(x)+\" int miles: \"+str(x*0.000189394))"
   ]
  },
  {
   "cell_type": "code",
   "execution_count": 39,
   "metadata": {},
   "outputs": [
    {
     "name": "stdout",
     "output_type": "stream",
     "text": [
      "Enter radius: 23\n",
      "Area: 1661.9025137490005\n",
      "Volume: 50965.01042163601\n"
     ]
    }
   ],
   "source": [
    "# Exercise16: Area and Volume\n",
    "import math\n",
    "r=float(input(\"Enter radius: \"))\n",
    "print(\"Area: \"+str(math.pi*(r**2)))\n",
    "print(\"Volume: \"+str((4/3)*math.pi*(r**3)))"
   ]
  },
  {
   "cell_type": "code",
   "execution_count": 41,
   "metadata": {},
   "outputs": [
    {
     "name": "stdout",
     "output_type": "stream",
     "text": [
      "mass and temp23 4\n",
      "q = 385.11199999999997 J\n",
      "Cost of boiling water: 0.9520824444444445\n"
     ]
    }
   ],
   "source": [
    "# Exercise17: Heat Capacity\n",
    "m,t = map(int,input(\"mass and temp\").split())\n",
    "c = 4.186\n",
    "q = m*c*t\n",
    "CentPerKw = 8.9\n",
    "print(\"q =\",q,\"J\\nCost of boiling water:\",q*CentPerKw/(60*60))"
   ]
  },
  {
   "cell_type": "code",
   "execution_count": 43,
   "metadata": {},
   "outputs": [
    {
     "name": "stdout",
     "output_type": "stream",
     "text": [
      "radius,height:23 4\n",
      "Volume:6647.6\n"
     ]
    }
   ],
   "source": [
    "# Exercise18: Volume of a Cylinder\n",
    "# import math\n",
    "r,h = map(float,input(\"radius,height:\").split())\n",
    "print(\"Volume:{:.1f}\".format(math.pi*r*r*h))"
   ]
  },
  {
   "cell_type": "code",
   "execution_count": 46,
   "metadata": {},
   "outputs": [
    {
     "name": "stdout",
     "output_type": "stream",
     "text": [
      "1\n",
      "vf = 4.43\n"
     ]
    }
   ],
   "source": [
    "# Exercise19: Free Fall\n",
    "g = 9.8\n",
    "h = float(input())\n",
    "print(\"vf =\",\"{:.2f}\".format(math.sqrt((2*9.8*h))))"
   ]
  },
  {
   "cell_type": "code",
   "execution_count": 47,
   "metadata": {},
   "outputs": [
    {
     "name": "stdout",
     "output_type": "stream",
     "text": [
      "Pressure,volume,temp23 5 6\n",
      "n= 0.002305348408307273\n"
     ]
    }
   ],
   "source": [
    "# Exercise20: Ideal Gas Law\n",
    "R = 8.314\n",
    "P,V,T=map(int, input(\"Pressure,volume,temp\").split())\n",
    "print(\"n=\",P*(V/1000)/(R*T))"
   ]
  },
  {
   "cell_type": "code",
   "execution_count": 48,
   "metadata": {},
   "outputs": [
    {
     "name": "stdout",
     "output_type": "stream",
     "text": [
      "Enter b: 2\n",
      "Enter h: 4\n",
      "S=  4.0\n"
     ]
    }
   ],
   "source": [
    "# Exercise21: Area of a Triangle\n",
    "b=int(input(\"Enter b: \"))\n",
    "h=int(input(\"Enter h: \"))\n",
    "print(\"S= \",str(b*h/2))"
   ]
  },
  {
   "cell_type": "code",
   "execution_count": 53,
   "metadata": {},
   "outputs": [
    {
     "name": "stdout",
     "output_type": "stream",
     "text": [
      "Enter s1: 1\n",
      "Enter s2: 1\n",
      "Enter s3: 1\n",
      "Area= 0.4330127018922193\n"
     ]
    }
   ],
   "source": [
    "# Exercise22: Area of a Triangle (Again)\n",
    "# import math\n",
    "s1=int(input(\"Enter s1: \"))\n",
    "s2=int(input(\"Enter s2: \"))\n",
    "s3=int(input(\"Enter s3: \"))\n",
    "s=(s1+s2+s3)/2\n",
    "s4=s*(s-s1)*(s-s2)*(s-s3)\n",
    "print(\"Area= \"+str(math.sqrt(s4)))"
   ]
  },
  {
   "cell_type": "code",
   "execution_count": 54,
   "metadata": {},
   "outputs": [
    {
     "name": "stdout",
     "output_type": "stream",
     "text": [
      "Enter length of a side : 2\n",
      "Enter the number of sides : 4\n",
      "Area: 3.9999999999999996\n"
     ]
    }
   ],
   "source": [
    "# Exercise23: Area of a Regular Polygon\n",
    "# import math\n",
    "a=int(input(\"Enter length of a side : \"))\n",
    "n=int(input(\"Enter the number of sides : \"))\n",
    "print(\"Area: \"+str(n*((a**2)/4*math.tan(math.pi/n))))"
   ]
  },
  {
   "cell_type": "code",
   "execution_count": 55,
   "metadata": {},
   "outputs": [
    {
     "name": "stdout",
     "output_type": "stream",
     "text": [
      "Enter count of days: 2\n",
      "Enter count of hours: 12\n",
      "Enter count of minutes: 42\n",
      "Enter count of seconds: 11\n",
      "All seconds equal to:218531\n"
     ]
    }
   ],
   "source": [
    "# Exercise24: Units of Time\n",
    "d=int(input(\"Enter count of days: \"))\n",
    "h=int(input(\"Enter count of hours: \"))\n",
    "m=int(input(\"Enter count of minutes: \"))\n",
    "s=int(input(\"Enter count of seconds: \"))\n",
    "h+=d*24\n",
    "m+=h*60\n",
    "s+=m*60\n",
    "print(\"All seconds equal to:\"+str(s))"
   ]
  },
  {
   "cell_type": "code",
   "execution_count": 56,
   "metadata": {},
   "outputs": [
    {
     "name": "stdout",
     "output_type": "stream",
     "text": [
      "Enter seconds: 122341413\n",
      "1415 days, 23:43:33\n"
     ]
    }
   ],
   "source": [
    "# Exercise25: Units of Time (Again)\n",
    "import datetime\n",
    "print(str(datetime.timedelta(seconds=int(input(\"Enter seconds: \")))))"
   ]
  },
  {
   "cell_type": "code",
   "execution_count": 57,
   "metadata": {},
   "outputs": [
    {
     "name": "stdout",
     "output_type": "stream",
     "text": [
      "2020-09-16 22:50:57.547982\n"
     ]
    }
   ],
   "source": [
    "# Exercise26: Current Time\n",
    "from datetime import datetime\n",
    "print(datetime.now())"
   ]
  },
  {
   "cell_type": "code",
   "execution_count": 58,
   "metadata": {},
   "outputs": [
    {
     "name": "stdout",
     "output_type": "stream",
     "text": [
      "Enter your mass: 65\n",
      "Enter your weight: 180\n",
      "0.002006172839506173\n"
     ]
    }
   ],
   "source": [
    "# Exercise27: Body Mass Index\n",
    "w=int(input(\"Enter your mass: \"))\n",
    "h=int(input(\"Enter your weight: \"))\n",
    "print(w/(h**2))"
   ]
  },
  {
   "cell_type": "code",
   "execution_count": 59,
   "metadata": {},
   "outputs": [
    {
     "name": "stdout",
     "output_type": "stream",
     "text": [
      "Enter temperature: 30\n",
      "Enter wind speed: 3\n",
      "32\n"
     ]
    }
   ],
   "source": [
    "# Exercise28: Wind Chill\n",
    "ta=float(input(\"Enter temperature: \"))\n",
    "v=float(input(\"Enter wind speed: \"))\n",
    "print(round(13.12+0.6215*ta-11.37*v**0.16+0.3965*ta*v**0.16))"
   ]
  },
  {
   "cell_type": "code",
   "execution_count": 61,
   "metadata": {},
   "outputs": [
    {
     "name": "stdout",
     "output_type": "stream",
     "text": [
      "Enter temperature in Celsius: 30\n",
      "30.0C in Kelvin: 303.15\n",
      "30.0C in Fahrenheit: 86.0\n"
     ]
    }
   ],
   "source": [
    "# Exercise29: Celsius to Fahrenheit and Kelvin\n",
    "c=float(input(\"Enter temperature in Celsius: \"))\n",
    "print(str(c)+\"C in Kelvin: \"+str(c+273.15))\n",
    "print(str(c)+\"C in Fahrenheit: \"+str((c*9/5)+32))"
   ]
  },
  {
   "cell_type": "code",
   "execution_count": 62,
   "metadata": {},
   "outputs": [
    {
     "name": "stdout",
     "output_type": "stream",
     "text": [
      "Pressure: 2\n",
      "PSI: 0.2900754877945662 \n",
      "mmHg: 15.001230100868273 \n",
      "Atm: 0.019738465334320256\n"
     ]
    }
   ],
   "source": [
    "# Exercise30: Units of Pressure\n",
    "P = int(input(\"Pressure: \"))\n",
    "print(\"PSI:\",P/(6.894757),\"\\nmmHg:\",P/(133.3224/1000),\"\\nAtm:\",P/(101.325))"
   ]
  },
  {
   "cell_type": "code",
   "execution_count": 63,
   "metadata": {},
   "outputs": [
    {
     "name": "stdout",
     "output_type": "stream",
     "text": [
      "23\n",
      "5\n"
     ]
    }
   ],
   "source": [
    "# Exercise31: Sum of the Digits in an Integer\n",
    "s=input()\n",
    "ans=0\n",
    "for i in s:\n",
    "    ans+=int(i)\n",
    "print(ans)"
   ]
  },
  {
   "cell_type": "code",
   "execution_count": 64,
   "metadata": {},
   "outputs": [
    {
     "name": "stdout",
     "output_type": "stream",
     "text": [
      "34 4 5\n",
      "4 5 34 "
     ]
    }
   ],
   "source": [
    "# Exercise32: Sort 3 Integers\n",
    "a=map(int,input().split())\n",
    "b=[]\n",
    "for i in a:\n",
    "    b.append(i)\n",
    "b.sort()\n",
    "for i in b:\n",
    "    print(i,end=\" \")"
   ]
  },
  {
   "cell_type": "code",
   "execution_count": 65,
   "metadata": {},
   "outputs": [
    {
     "name": "stdout",
     "output_type": "stream",
     "text": [
      "100\n",
      "Just price: 349.00 \n",
      "discount is 60%: 209.40 \n",
      "then total price:  139.60\n"
     ]
    }
   ],
   "source": [
    "# Exercise33: Day Old Bread\n",
    "n = int(input())\n",
    "print(\"Just price: {:.2f}\".format(n*3.49),\"\\ndiscount is 60%: {:.2f}\".format(n*3.49*0.6), \"\\nthen total price: \",\"{:.2f}\".format(n*0.4*3.49))"
   ]
  }
 ],
 "metadata": {
  "kernelspec": {
   "display_name": "Python 3",
   "language": "python",
   "name": "python3"
  },
  "language_info": {
   "codemirror_mode": {
    "name": "ipython",
    "version": 3
   },
   "file_extension": ".py",
   "mimetype": "text/x-python",
   "name": "python",
   "nbconvert_exporter": "python",
   "pygments_lexer": "ipython3",
   "version": "3.8.3"
  }
 },
 "nbformat": 4,
 "nbformat_minor": 4
}
