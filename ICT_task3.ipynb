{
 "cells": [
  {
   "cell_type": "code",
   "execution_count": 6,
   "metadata": {},
   "outputs": [
    {
     "name": "stdout",
     "output_type": "stream",
     "text": [
      "Codeforces\n",
      ".c.d.f.r.c.s\n"
     ]
    }
   ],
   "source": [
    "# task 1\n",
    "s=input()\n",
    "ans=\"\"\n",
    "for i in s:\n",
    "    i=i.lower()\n",
    "    if i=='a' or i=='o' or i=='y' or i=='e' or i=='u' or i=='i':\n",
    "        continue\n",
    "    else:\n",
    "\n",
    "        ans+='.'\n",
    "        ans+=f(i)\n",
    "print(ans)"
   ]
  },
  {
   "cell_type": "code",
   "execution_count": 17,
   "metadata": {},
   "outputs": [
    {
     "name": "stdout",
     "output_type": "stream",
     "text": [
      "2\n",
      "2\n"
     ]
    }
   ],
   "source": [
    "# task 2\n",
    "s=input()\n",
    "a=[]\n",
    "for i in s:\n",
    "    if i!='+':\n",
    "        a.append(i)\n",
    "s=\"\"\n",
    "x=sorted(a)\n",
    "for i in x:\n",
    "    s+=i+'+'\n",
    "print(s[:len(s)-1])"
   ]
  },
  {
   "cell_type": "code",
   "execution_count": 22,
   "metadata": {},
   "outputs": [
    {
     "name": "stdout",
     "output_type": "stream",
     "text": [
      "yerberhbv\n",
      "Yerberhbv\n"
     ]
    }
   ],
   "source": [
    "# task 3\n",
    "s=input()\n",
    "print(s[0].upper(),end='')\n",
    "print(s[1:])"
   ]
  },
  {
   "cell_type": "code",
   "execution_count": 47,
   "metadata": {},
   "outputs": [
    {
     "name": "stdout",
     "output_type": "stream",
     "text": [
      "1000000001\n",
      "YES\n"
     ]
    }
   ],
   "source": [
    "# task 4\n",
    "import re\n",
    "txt = input()\n",
    "x = re.findall(\"1111111\", txt)\n",
    "x1= re.findall(\"0000000\", txt)\n",
    "if len(x)>0 or len(x1)>0: print(\"YES\")\n",
    "else: print(\"No\")"
   ]
  },
  {
   "cell_type": "code",
   "execution_count": 51,
   "metadata": {},
   "outputs": [
    {
     "name": "stdout",
     "output_type": "stream",
     "text": [
      "xiaodao\n",
      "IGNORE HIM!\n"
     ]
    }
   ],
   "source": [
    "# task 5\n",
    "n=input()\n",
    "n=set(n)\n",
    "if len(n)%2==0: print('CHAT WITH HER!')\n",
    "else: print('IGNORE HIM!')"
   ]
  },
  {
   "cell_type": "code",
   "execution_count": 68,
   "metadata": {},
   "outputs": [
    {
     "name": "stdout",
     "output_type": "stream",
     "text": [
      "maTRIx\n",
      "matrix\n"
     ]
    }
   ],
   "source": [
    "# task 6\n",
    "s=input()\n",
    "l=0\n",
    "u=0\n",
    "for i in s:\n",
    "    if i==i.lower(): l+=1\n",
    "    else: u+=1\n",
    "if u<=l: print(s.lower())\n",
    "else: print(s.upper())"
   ]
  },
  {
   "cell_type": "code",
   "execution_count": 78,
   "metadata": {},
   "outputs": [
    {
     "name": "stdout",
     "output_type": "stream",
     "text": [
      "toosmallword\n",
      "no\n"
     ]
    }
   ],
   "source": [
    "# task 7\n",
    "s=input()\n",
    "x = re.findall(\"[a-zA-Z]\", s)\n",
    "if len(set(x))>26:\n",
    "    print(\"Yes\")\n",
    "else: print('no')"
   ]
  },
  {
   "cell_type": "code",
   "execution_count": 4,
   "metadata": {},
   "outputs": [
    {
     "name": "stdout",
     "output_type": "stream",
     "text": [
      "abb\n",
      "aba\n",
      "no\n"
     ]
    }
   ],
   "source": [
    "# task 8\n",
    "n=input()\n",
    "t=input()\n",
    "if t==n[::-1]:\n",
    "    print('Yes')\n",
    "else:\n",
    "    print('no')"
   ]
  },
  {
   "cell_type": "code",
   "execution_count": 7,
   "metadata": {},
   "outputs": [
    {
     "name": "stdout",
     "output_type": "stream",
     "text": [
      "DDDAADA\n",
      "Danik\n"
     ]
    }
   ],
   "source": [
    "# task 9\n",
    "import re\n",
    "s=input()\n",
    "a=re.findall(\"A\",s)\n",
    "b=re.findall(\"D\",s)\n",
    "if len(a)>len(b):\n",
    "    print('Anton')\n",
    "elif len(a)<len(b):\n",
    "    print('Danik')\n",
    "else: print('Friendship')"
   ]
  },
  {
   "cell_type": "code",
   "execution_count": 9,
   "metadata": {},
   "outputs": [
    {
     "name": "stdout",
     "output_type": "stream",
     "text": [
      "hELLO\n",
      "Hello\n"
     ]
    }
   ],
   "source": [
    "# task 10\n",
    "s=input()\n",
    "s=s.lower()\n",
    "print(s[0].upper(),end='')\n",
    "print(s[1:])"
   ]
  },
  {
   "cell_type": "code",
   "execution_count": 15,
   "metadata": {},
   "outputs": [
    {
     "name": "stdout",
     "output_type": "stream",
     "text": [
      "4\n",
      "zero\n",
      "0 "
     ]
    }
   ],
   "source": [
    "# task 11\n",
    "import re\n",
    "n=int(input())\n",
    "s=input()\n",
    "o=re.findall('o',s)\n",
    "e=re.findall('e',s)\n",
    "n=re.findall('n',s)\n",
    "z=re.findall('z',s)\n",
    "r=re.findall('r',s)\n",
    "x=min(len(o),len(e),len(z),len(r))\n",
    "# print(x)\n",
    "len(n)-x\n",
    "len(o)-x\n",
    "len(e)-x\n",
    "x1=min(len(n),len(o),len(e))\n",
    "for i in range(0,x1):\n",
    "    print('1',end=' ')\n",
    "for i in range(0,x):\n",
    "    print('0',end=' ')\n"
   ]
  },
  {
   "cell_type": "code",
   "execution_count": 18,
   "metadata": {},
   "outputs": [
    {
     "name": "stdout",
     "output_type": "stream",
     "text": [
      "10\n",
      "xxxxxxxxxx\n",
      "8\n"
     ]
    }
   ],
   "source": [
    "# task 12\n",
    "import re\n",
    "n=int(input())\n",
    "s=input()\n",
    "ans=0\n",
    "while n>0:\n",
    "    x=re.findall('xxx',s)\n",
    "    if len(x)>0:\n",
    "        ans+=1\n",
    "    s=s[1:]\n",
    "    n-=1\n",
    "print(ans)"
   ]
  },
  {
   "cell_type": "code",
   "execution_count": null,
   "metadata": {},
   "outputs": [],
   "source": []
  }
 ],
 "metadata": {
  "kernelspec": {
   "display_name": "Python 3",
   "language": "python",
   "name": "python3"
  },
  "language_info": {
   "codemirror_mode": {
    "name": "ipython",
    "version": 3
   },
   "file_extension": ".py",
   "mimetype": "text/x-python",
   "name": "python",
   "nbconvert_exporter": "python",
   "pygments_lexer": "ipython3",
   "version": "3.8.3"
  }
 },
 "nbformat": 4,
 "nbformat_minor": 4
}
